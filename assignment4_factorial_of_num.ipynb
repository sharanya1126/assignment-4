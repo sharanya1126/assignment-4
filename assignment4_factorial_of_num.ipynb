{
  "nbformat": 4,
  "nbformat_minor": 0,
  "metadata": {
    "colab": {
      "name": "assignment4-factorial of num",
      "provenance": []
    },
    "kernelspec": {
      "name": "python3",
      "display_name": "Python 3"
    }
  },
  "cells": [
    {
      "cell_type": "code",
      "metadata": {
        "id": "VuQC0syIaNCm",
        "colab_type": "code",
        "colab": {
          "base_uri": "https://localhost:8080/",
          "height": 34
        },
        "outputId": "c993b1ad-832c-4a1b-80f7-6c0ab21d52b0"
      },
      "source": [
        "def fact(n):\n",
        "  if n==1:\n",
        "    return n\n",
        "  else:\n",
        "    return n*fact(n-1)\n",
        "print(fact(3))"
      ],
      "execution_count": 4,
      "outputs": [
        {
          "output_type": "stream",
          "text": [
            "6\n"
          ],
          "name": "stdout"
        }
      ]
    }
  ]
}