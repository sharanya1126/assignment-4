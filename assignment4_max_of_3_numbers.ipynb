{
  "nbformat": 4,
  "nbformat_minor": 0,
  "metadata": {
    "colab": {
      "name": "assignment4-max of 3 numbers",
      "provenance": []
    },
    "kernelspec": {
      "name": "python3",
      "display_name": "Python 3"
    }
  },
  "cells": [
    {
      "cell_type": "code",
      "metadata": {
        "id": "OQoBP45MUKgx",
        "colab_type": "code",
        "colab": {
          "base_uri": "https://localhost:8080/",
          "height": 34
        },
        "outputId": "76d817b9-b3f5-4a35-8915-5e1586aed5fd"
      },
      "source": [
        "def max(a,b,c):\n",
        "      if a>b and a>c:\n",
        "        print(\"max number is :\",a)\n",
        "      elif b>a and b>c:\n",
        "        print(\"max number is :\",b)\n",
        "      else:\n",
        "        print(\"max number is :\",c)\n",
        "numbers=max(2,4,1)"
      ],
      "execution_count": 5,
      "outputs": [
        {
          "output_type": "stream",
          "text": [
            "max number is : 4\n"
          ],
          "name": "stdout"
        }
      ]
    }
  ]
}