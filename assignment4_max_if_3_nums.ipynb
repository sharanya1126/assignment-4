{
  "nbformat": 4,
  "nbformat_minor": 0,
  "metadata": {
    "colab": {
      "name": "assignment4-max if 3 nums",
      "provenance": []
    },
    "kernelspec": {
      "name": "python3",
      "display_name": "Python 3"
    }
  },
  "cells": [
    {
      "cell_type": "code",
      "metadata": {
        "id": "4jgAH-TTWDeu",
        "colab_type": "code",
        "colab": {
          "base_uri": "https://localhost:8080/",
          "height": 34
        },
        "outputId": "04510b70-1cb0-49cf-882f-a21232b69838"
      },
      "source": [
        "def input(n):\n",
        "  if n in range(2,9):\n",
        "    print(\"number is in given range\",n)\n",
        "  else:\n",
        "    print(\"number is not in given range\",n)\n",
        "input(5)"
      ],
      "execution_count": 6,
      "outputs": [
        {
          "output_type": "stream",
          "text": [
            "number is in given range 5\n"
          ],
          "name": "stdout"
        }
      ]
    }
  ]
}